{
  "cells": [
    {
      "cell_type": "markdown",
      "metadata": {
        "id": "BBgNOgHRS1FW"
      },
      "source": [
        "# Flight Fare Prediction Project\n",
        "1. As first step, we load our `FlightFare_Dataset` from Project Directory, using Pandas `read_excel` method\n",
        "2. Then, we perform Feature Exploration and Engineering to transform our dataset\n",
        "3. Once done, we use a Feature Selection technique to select the most important features\n",
        "4. At this point, we train a Random Forest Regressor Model\n",
        "5. As next step, we do hyper-parameter tuning (using `RandomGridSearch`) to build the best model\n",
        "6. Finally, we export Model `.pkl` file back to Project Directory\n",
        "7. Towards the end, we proceed to Model Deployment step"
      ]
    },
    {
      "cell_type": "markdown",
      "source": [
        "## Set up Environment"
      ],
      "metadata": {
        "id": "duacQMllNqSn"
      }
    },
    {
      "cell_type": "code",
      "execution_count": 58,
      "metadata": {
        "id": "vcrlrO11S1FZ"
      },
      "outputs": [],
      "source": [
        "import numpy as np\n",
        "import pandas as pd\n",
        "import matplotlib.pyplot as plt\n",
        "from sklearn import metrics\n",
        "import seaborn as sns\n",
        "sns.set()"
      ]
    },
    {
      "cell_type": "code",
      "source": [
        "# Mount Google Drive - applicable, if working on Google Drive\n",
        "from google.colab import drive\n",
        "drive.mount('/content/drive')"
      ],
      "metadata": {
        "colab": {
          "base_uri": "https://localhost:8080/"
        },
        "id": "YEDd3kzaOMCw",
        "outputId": "ed4db92c-e1ed-4881-c84e-7611e2dc4a34"
      },
      "execution_count": 59,
      "outputs": [
        {
          "output_type": "stream",
          "name": "stdout",
          "text": [
            "Drive already mounted at /content/drive; to attempt to forcibly remount, call drive.mount(\"/content/drive\", force_remount=True).\n"
          ]
        }
      ]
    },
    {
      "cell_type": "code",
      "source": [
        "# Set Working Directory - if working on Google Drive\n",
        "%cd /content/drive/MyDrive/1_LiveProjects/Project10_FlightPricePrediction\n",
        "\n",
        "# # Set Working Directory - if working on Local Machine\n",
        "# import os\n",
        "# os.chdir('/Users//replace_me')"
      ],
      "metadata": {
        "colab": {
          "base_uri": "https://localhost:8080/"
        },
        "id": "-PzSLmcHNwSe",
        "outputId": "81a374cb-1bc3-4ce4-922c-f14fb9f9b52b"
      },
      "execution_count": 60,
      "outputs": [
        {
          "output_type": "stream",
          "name": "stdout",
          "text": [
            "[Errno 2] No such file or directory: '/content/drive/MyDrive/1_LiveProjects/Project10_FlightPricePrediction'\n",
            "/content\n"
          ]
        }
      ]
    },
    {
      "cell_type": "markdown",
      "metadata": {
        "id": "bFGnop_jS1Fa"
      },
      "source": [
        "## Load Dataset"
      ]
    },
    {
      "cell_type": "code",
      "execution_count": 61,
      "metadata": {
        "id": "0Hbzcmp5S1Fb",
        "outputId": "d15ea2a0-34a5-48bb-e01f-0d1c8827cc2e",
        "colab": {
          "base_uri": "https://localhost:8080/",
          "height": 356
        }
      },
      "outputs": [
        {
          "output_type": "error",
          "ename": "FileNotFoundError",
          "evalue": "[Errno 2] No such file or directory: 'a1_FlightFare_Dataset.xlsx'",
          "traceback": [
            "\u001b[0;31m---------------------------------------------------------------------------\u001b[0m",
            "\u001b[0;31mFileNotFoundError\u001b[0m                         Traceback (most recent call last)",
            "\u001b[0;32m<ipython-input-61-5488697e0d87>\u001b[0m in \u001b[0;36m<cell line: 2>\u001b[0;34m()\u001b[0m\n\u001b[1;32m      1\u001b[0m \u001b[0;31m# Load dataset from Project folder\u001b[0m\u001b[0;34m\u001b[0m\u001b[0;34m\u001b[0m\u001b[0m\n\u001b[0;32m----> 2\u001b[0;31m \u001b[0mdataset\u001b[0m \u001b[0;34m=\u001b[0m \u001b[0mpd\u001b[0m\u001b[0;34m.\u001b[0m\u001b[0mread_excel\u001b[0m\u001b[0;34m(\u001b[0m\u001b[0;34m\"a1_FlightFare_Dataset.xlsx\"\u001b[0m\u001b[0;34m)\u001b[0m\u001b[0;34m\u001b[0m\u001b[0;34m\u001b[0m\u001b[0m\n\u001b[0m\u001b[1;32m      3\u001b[0m \u001b[0;34m\u001b[0m\u001b[0m\n\u001b[1;32m      4\u001b[0m \u001b[0;31m# To stretch head function output to the notebook width\u001b[0m\u001b[0;34m\u001b[0m\u001b[0;34m\u001b[0m\u001b[0m\n\u001b[1;32m      5\u001b[0m \u001b[0mpd\u001b[0m\u001b[0;34m.\u001b[0m\u001b[0mset_option\u001b[0m\u001b[0;34m(\u001b[0m\u001b[0;34m'display.max_columns'\u001b[0m\u001b[0;34m,\u001b[0m \u001b[0;32mNone\u001b[0m\u001b[0;34m)\u001b[0m\u001b[0;34m\u001b[0m\u001b[0;34m\u001b[0m\u001b[0m\n",
            "\u001b[0;32m/usr/local/lib/python3.10/dist-packages/pandas/io/excel/_base.py\u001b[0m in \u001b[0;36mread_excel\u001b[0;34m(io, sheet_name, header, names, index_col, usecols, dtype, engine, converters, true_values, false_values, skiprows, nrows, na_values, keep_default_na, na_filter, verbose, parse_dates, date_parser, date_format, thousands, decimal, comment, skipfooter, storage_options, dtype_backend)\u001b[0m\n\u001b[1;32m    476\u001b[0m     \u001b[0;32mif\u001b[0m \u001b[0;32mnot\u001b[0m \u001b[0misinstance\u001b[0m\u001b[0;34m(\u001b[0m\u001b[0mio\u001b[0m\u001b[0;34m,\u001b[0m \u001b[0mExcelFile\u001b[0m\u001b[0;34m)\u001b[0m\u001b[0;34m:\u001b[0m\u001b[0;34m\u001b[0m\u001b[0;34m\u001b[0m\u001b[0m\n\u001b[1;32m    477\u001b[0m         \u001b[0mshould_close\u001b[0m \u001b[0;34m=\u001b[0m \u001b[0;32mTrue\u001b[0m\u001b[0;34m\u001b[0m\u001b[0;34m\u001b[0m\u001b[0m\n\u001b[0;32m--> 478\u001b[0;31m         \u001b[0mio\u001b[0m \u001b[0;34m=\u001b[0m \u001b[0mExcelFile\u001b[0m\u001b[0;34m(\u001b[0m\u001b[0mio\u001b[0m\u001b[0;34m,\u001b[0m \u001b[0mstorage_options\u001b[0m\u001b[0;34m=\u001b[0m\u001b[0mstorage_options\u001b[0m\u001b[0;34m,\u001b[0m \u001b[0mengine\u001b[0m\u001b[0;34m=\u001b[0m\u001b[0mengine\u001b[0m\u001b[0;34m)\u001b[0m\u001b[0;34m\u001b[0m\u001b[0;34m\u001b[0m\u001b[0m\n\u001b[0m\u001b[1;32m    479\u001b[0m     \u001b[0;32melif\u001b[0m \u001b[0mengine\u001b[0m \u001b[0;32mand\u001b[0m \u001b[0mengine\u001b[0m \u001b[0;34m!=\u001b[0m \u001b[0mio\u001b[0m\u001b[0;34m.\u001b[0m\u001b[0mengine\u001b[0m\u001b[0;34m:\u001b[0m\u001b[0;34m\u001b[0m\u001b[0;34m\u001b[0m\u001b[0m\n\u001b[1;32m    480\u001b[0m         raise ValueError(\n",
            "\u001b[0;32m/usr/local/lib/python3.10/dist-packages/pandas/io/excel/_base.py\u001b[0m in \u001b[0;36m__init__\u001b[0;34m(self, path_or_buffer, engine, storage_options)\u001b[0m\n\u001b[1;32m   1494\u001b[0m                 \u001b[0mext\u001b[0m \u001b[0;34m=\u001b[0m \u001b[0;34m\"xls\"\u001b[0m\u001b[0;34m\u001b[0m\u001b[0;34m\u001b[0m\u001b[0m\n\u001b[1;32m   1495\u001b[0m             \u001b[0;32melse\u001b[0m\u001b[0;34m:\u001b[0m\u001b[0;34m\u001b[0m\u001b[0;34m\u001b[0m\u001b[0m\n\u001b[0;32m-> 1496\u001b[0;31m                 ext = inspect_excel_format(\n\u001b[0m\u001b[1;32m   1497\u001b[0m                     \u001b[0mcontent_or_path\u001b[0m\u001b[0;34m=\u001b[0m\u001b[0mpath_or_buffer\u001b[0m\u001b[0;34m,\u001b[0m \u001b[0mstorage_options\u001b[0m\u001b[0;34m=\u001b[0m\u001b[0mstorage_options\u001b[0m\u001b[0;34m\u001b[0m\u001b[0;34m\u001b[0m\u001b[0m\n\u001b[1;32m   1498\u001b[0m                 )\n",
            "\u001b[0;32m/usr/local/lib/python3.10/dist-packages/pandas/io/excel/_base.py\u001b[0m in \u001b[0;36minspect_excel_format\u001b[0;34m(content_or_path, storage_options)\u001b[0m\n\u001b[1;32m   1369\u001b[0m         \u001b[0mcontent_or_path\u001b[0m \u001b[0;34m=\u001b[0m \u001b[0mBytesIO\u001b[0m\u001b[0;34m(\u001b[0m\u001b[0mcontent_or_path\u001b[0m\u001b[0;34m)\u001b[0m\u001b[0;34m\u001b[0m\u001b[0;34m\u001b[0m\u001b[0m\n\u001b[1;32m   1370\u001b[0m \u001b[0;34m\u001b[0m\u001b[0m\n\u001b[0;32m-> 1371\u001b[0;31m     with get_handle(\n\u001b[0m\u001b[1;32m   1372\u001b[0m         \u001b[0mcontent_or_path\u001b[0m\u001b[0;34m,\u001b[0m \u001b[0;34m\"rb\"\u001b[0m\u001b[0;34m,\u001b[0m \u001b[0mstorage_options\u001b[0m\u001b[0;34m=\u001b[0m\u001b[0mstorage_options\u001b[0m\u001b[0;34m,\u001b[0m \u001b[0mis_text\u001b[0m\u001b[0;34m=\u001b[0m\u001b[0;32mFalse\u001b[0m\u001b[0;34m\u001b[0m\u001b[0;34m\u001b[0m\u001b[0m\n\u001b[1;32m   1373\u001b[0m     ) as handle:\n",
            "\u001b[0;32m/usr/local/lib/python3.10/dist-packages/pandas/io/common.py\u001b[0m in \u001b[0;36mget_handle\u001b[0;34m(path_or_buf, mode, encoding, compression, memory_map, is_text, errors, storage_options)\u001b[0m\n\u001b[1;32m    866\u001b[0m         \u001b[0;32melse\u001b[0m\u001b[0;34m:\u001b[0m\u001b[0;34m\u001b[0m\u001b[0;34m\u001b[0m\u001b[0m\n\u001b[1;32m    867\u001b[0m             \u001b[0;31m# Binary mode\u001b[0m\u001b[0;34m\u001b[0m\u001b[0;34m\u001b[0m\u001b[0m\n\u001b[0;32m--> 868\u001b[0;31m             \u001b[0mhandle\u001b[0m \u001b[0;34m=\u001b[0m \u001b[0mopen\u001b[0m\u001b[0;34m(\u001b[0m\u001b[0mhandle\u001b[0m\u001b[0;34m,\u001b[0m \u001b[0mioargs\u001b[0m\u001b[0;34m.\u001b[0m\u001b[0mmode\u001b[0m\u001b[0;34m)\u001b[0m\u001b[0;34m\u001b[0m\u001b[0;34m\u001b[0m\u001b[0m\n\u001b[0m\u001b[1;32m    869\u001b[0m         \u001b[0mhandles\u001b[0m\u001b[0;34m.\u001b[0m\u001b[0mappend\u001b[0m\u001b[0;34m(\u001b[0m\u001b[0mhandle\u001b[0m\u001b[0;34m)\u001b[0m\u001b[0;34m\u001b[0m\u001b[0;34m\u001b[0m\u001b[0m\n\u001b[1;32m    870\u001b[0m \u001b[0;34m\u001b[0m\u001b[0m\n",
            "\u001b[0;31mFileNotFoundError\u001b[0m: [Errno 2] No such file or directory: 'a1_FlightFare_Dataset.xlsx'"
          ]
        }
      ],
      "source": [
        "# Load dataset from Project folder\n",
        "dataset = pd.read_excel(\"a1_FlightFare_Dataset.xlsx\")\n",
        "\n",
        "# To stretch head function output to the notebook width\n",
        "pd.set_option('display.max_columns', None)\n",
        "\n",
        "dataset.head()"
      ]
    },
    {
      "cell_type": "code",
      "execution_count": null,
      "metadata": {
        "id": "slLEP_6QS1Fc"
      },
      "outputs": [],
      "source": [
        "dataset.info()       # Print Data Types"
      ]
    },
    {
      "cell_type": "markdown",
      "source": [
        "### Check for missing values"
      ],
      "metadata": {
        "id": "Z2ABOEWcvUs4"
      }
    },
    {
      "cell_type": "code",
      "execution_count": null,
      "metadata": {
        "id": "nounGdRWS1Fd"
      },
      "outputs": [],
      "source": [
        "dataset.isnull().sum()"
      ]
    },
    {
      "cell_type": "code",
      "execution_count": null,
      "metadata": {
        "id": "rkesT0mPS1Fd"
      },
      "outputs": [],
      "source": [
        "dataset.dropna(inplace = True)"
      ]
    },
    {
      "cell_type": "code",
      "source": [
        "dataset.isnull().sum()"
      ],
      "metadata": {
        "id": "cLY6bzKoQUij"
      },
      "execution_count": null,
      "outputs": []
    },
    {
      "cell_type": "markdown",
      "metadata": {
        "id": "_3gT5bY7S1Fe"
      },
      "source": [
        "## Feature Engineering"
      ]
    },
    {
      "cell_type": "code",
      "source": [
        "dataset.head()"
      ],
      "metadata": {
        "id": "VJFAzCADQ7lT"
      },
      "execution_count": null,
      "outputs": []
    },
    {
      "cell_type": "markdown",
      "source": [
        "### Handling Object Data\n",
        "**`Date_of_Journey`, `Dep_Time`, `Arrival_Time`, `Duration` are object datatype.** To derive numeric features on these, we use pandas `to_datetime` method to convert object data type to datetime datatype.\n",
        "\n",
        "<span style=\"color: red;\">Attribute `.dt.day`  will extract day from the date</span>\\\n",
        "<span style=\"color: red;\">Attribute `.dt.month` will extract  month from that date</span>"
      ],
      "metadata": {
        "id": "l9Mr_4zVYCd5"
      }
    },
    {
      "cell_type": "code",
      "execution_count": null,
      "metadata": {
        "id": "biASfcHxS1Fe"
      },
      "outputs": [],
      "source": [
        "# Date_of_Journey is the day when plane departs.\n",
        "dataset[\"journey_day\"] = pd.to_datetime(dataset.Date_of_Journey, format=\"%d/%m/%Y\").dt.day\n",
        "dataset[\"journey_month\"] = pd.to_datetime(dataset[\"Date_of_Journey\"], format = \"%d/%m/%Y\").dt.month\n",
        "dataset.head()"
      ]
    },
    {
      "cell_type": "code",
      "execution_count": null,
      "metadata": {
        "id": "rT6s-eEBS1Ff"
      },
      "outputs": [],
      "source": [
        "# Since we have converted Date_of_Journey column into integers, Now we can drop as it is of no use.\n",
        "dataset.drop([\"Date_of_Journey\"], axis = 1, inplace = True)"
      ]
    },
    {
      "cell_type": "code",
      "execution_count": null,
      "metadata": {
        "id": "Z4dI5r9pS1Ff"
      },
      "outputs": [],
      "source": [
        "# Departure time is when a plane leaves the gate.\n",
        "# Similar to Date_of_Journey we can extract values from Dep_Time\n",
        "# Extracting Hours\n",
        "dataset[\"dep_hour\"] = pd.to_datetime(dataset[\"Dep_Time\"]).dt.hour\n",
        "# Extracting Minutes\n",
        "dataset[\"dep_min\"] = pd.to_datetime(dataset[\"Dep_Time\"]).dt.minute\n",
        "# Now we drop Dep_Time as it is of no use\n",
        "dataset.drop([\"Dep_Time\"], axis = 1, inplace = True)"
      ]
    },
    {
      "cell_type": "code",
      "execution_count": null,
      "metadata": {
        "id": "5D9PH9U7S1Fg"
      },
      "outputs": [],
      "source": [
        "# Arrival time is when the plane pulls up to the gate.\n",
        "# Similar to Date_of_Journey we can extract values from Arrival_Time\n",
        "\n",
        "# Extracting Hours\n",
        "dataset[\"arrival_hour\"] = pd.to_datetime(dataset[\"Arrival_Time\"]).dt.hour\n",
        "# Extracting Minutes\n",
        "dataset[\"arrival_min\"] = pd.to_datetime(dataset[\"Arrival_Time\"]).dt.minute\n",
        "# Now we can drop Arrival_Time as it is of no use\n",
        "dataset.drop([\"Arrival_Time\"], axis = 1, inplace = True)"
      ]
    },
    {
      "cell_type": "code",
      "execution_count": null,
      "metadata": {
        "id": "cEhqWAvuS1Fg"
      },
      "outputs": [],
      "source": [
        "dataset.head()"
      ]
    },
    {
      "cell_type": "code",
      "source": [
        "# len('2h 50m'.split())"
      ],
      "metadata": {
        "id": "d0alujNSlZkK"
      },
      "execution_count": null,
      "outputs": []
    },
    {
      "cell_type": "code",
      "execution_count": null,
      "metadata": {
        "id": "0JqtBNwAS1Fg"
      },
      "outputs": [],
      "source": [
        "# Duration is the time taken by plane to reach destination\n",
        "# It is the difference betwen Arrival Time and Departure time\n",
        "# Assigning and converting Duration column into list, for looping through\n",
        "duration = list(dataset[\"Duration\"])\n",
        "# In table above, Row Index=2, we have Duration = 19h (missing minutes)\n",
        "# Looping through all duration values\n",
        "# To ensure it has both hours & mins: 'xh ym'\n",
        "for i in range(len(duration)):\n",
        "    if len(duration[i].split()) != 2:    # Check if duration contains only hour or mins\n",
        "        if \"h\" in duration[i]:\n",
        "            duration[i] = duration[i].strip() + \" 0m\"   # Adds 0 minute\n",
        "        else:\n",
        "            duration[i] = \"0h \" + duration[i]           # Adds 0 hour\n",
        "# Prepare separate duration_hours and duration_mins lists\n",
        "duration_hours = []\n",
        "duration_mins = []\n",
        "for i in range(len(duration)):\n",
        "    duration_hours.append(int(duration[i].split(sep = \"h\")[0]))    # Extract hours from duration\n",
        "    duration_mins.append(int(duration[i].split(sep = \"m\")[0].split()[-1]))   # Extracts only minutes from duration\n",
        "\n",
        "# Add duration_hours and duration_mins list to our dataset df\n",
        "dataset[\"Duration_hours\"] = duration_hours\n",
        "dataset[\"Duration_mins\"] = duration_mins\n",
        "# Drop Duration column from the dataset\n",
        "dataset.drop([\"Duration\"], axis = 1, inplace = True)\n",
        "\n",
        "dataset.head()"
      ]
    },
    {
      "cell_type": "markdown",
      "metadata": {
        "id": "X-A9XYVMS1Fh"
      },
      "source": [
        "### Handling Categorical Data\n",
        "\n",
        "**`Airline`, `Source`, `Destination`, `Route`, `Total_Stops`, `Additional_Info` are all categorical.** One can find many ways to handle categorical data, like:\n",
        "1. <span style=\"color: blue;\">**Nominal data**</span> --> data is not in any order --> <span style=\"color: green;\">**OneHotEncoder**</span> is used in this case\n",
        "2. <span style=\"color: blue;\">**Ordinal data**</span> --> data is in order --> <span style=\"color: green;\">**LabelEncoder**</span> is used in this case"
      ]
    },
    {
      "cell_type": "code",
      "execution_count": null,
      "metadata": {
        "id": "SUQOO8irS1Fh"
      },
      "outputs": [],
      "source": [
        "# Feature engineering on: Airline\n",
        "dataset[\"Airline\"].value_counts()"
      ]
    },
    {
      "cell_type": "code",
      "source": [
        "# As Airline is Nominal Categorical data we will perform OneHotEncoding\n",
        "Airline = dataset[[\"Airline\"]]\n",
        "Current_Airline_List = Airline['Airline']\n",
        "New_Airline_List = []\n",
        "\n",
        "for carrier in Current_Airline_List:\n",
        "  if carrier in ['Jet Airways', 'IndiGo', 'Air India', 'SpiceJet',\n",
        "       'Multiple carriers', 'GoAir', 'Vistara', 'Air Asia']:\n",
        "    New_Airline_List.append(carrier)\n",
        "  else:\n",
        "    New_Airline_List.append('Other')\n",
        "\n",
        "Airline['Airline'] = pd.DataFrame(New_Airline_List)\n",
        "Airline['Airline'].value_counts()"
      ],
      "metadata": {
        "id": "dkJgriADe4jh"
      },
      "execution_count": null,
      "outputs": []
    },
    {
      "cell_type": "code",
      "execution_count": null,
      "metadata": {
        "id": "soPl0ATSS1Fh"
      },
      "outputs": [],
      "source": [
        "Airline = pd.get_dummies(Airline, drop_first= True)\n",
        "Airline.head()"
      ]
    },
    {
      "cell_type": "code",
      "execution_count": null,
      "metadata": {
        "id": "mPeuBE9OS1Fi"
      },
      "outputs": [],
      "source": [
        "# Feature engineering on: Source\n",
        "dataset[\"Source\"].value_counts()"
      ]
    },
    {
      "cell_type": "code",
      "execution_count": null,
      "metadata": {
        "id": "AJggB_CdS1Fi"
      },
      "outputs": [],
      "source": [
        "# As Source is Nominal Categorical data we will perform OneHotEncoding\n",
        "Source = dataset[[\"Source\"]]\n",
        "Source = pd.get_dummies(Source, drop_first= True)\n",
        "# drop_first= True means we drop the first column to prevent multicollinearity\n",
        "Source.head()"
      ]
    },
    {
      "cell_type": "code",
      "execution_count": null,
      "metadata": {
        "id": "WvrboCFCS1Fi"
      },
      "outputs": [],
      "source": [
        "# Feature engineering on: Destination\n",
        "dataset[\"Destination\"].value_counts()"
      ]
    },
    {
      "cell_type": "code",
      "source": [
        "# Renaming destination 'New Delhi' to 'Delhi' - to match with Source\n",
        "Destination = dataset[[\"Destination\"]]\n",
        "Current_Destination_List = Destination['Destination']\n",
        "New_Destination_List = []\n",
        "\n",
        "for value in Current_Destination_List:\n",
        "  if value in ['New Delhi']:\n",
        "    New_Destination_List.append('Delhi')\n",
        "  else:\n",
        "    New_Destination_List.append(value)\n",
        "\n",
        "Destination['Destination'] = pd.DataFrame(New_Destination_List)\n",
        "\n",
        "# As Destination is Nominal Categorical data we will perform OneHotEncoding\n",
        "Destination = pd.get_dummies(Destination, drop_first = True)\n",
        "Destination.head()"
      ],
      "metadata": {
        "id": "MEUP2BEO2TBq"
      },
      "execution_count": null,
      "outputs": []
    },
    {
      "cell_type": "code",
      "execution_count": null,
      "metadata": {
        "id": "Vg2gE6rxS1Fi"
      },
      "outputs": [],
      "source": [
        "# Additional_Info contains almost 80% no_info\n",
        "# Route and Total_Stops are related to each other\n",
        "dataset.drop([\"Route\", \"Additional_Info\"], axis = 1, inplace = True)"
      ]
    },
    {
      "cell_type": "code",
      "execution_count": null,
      "metadata": {
        "id": "TMiL6MZ4S1Fi"
      },
      "outputs": [],
      "source": [
        "# Feature engineering on: Total_Stops\n",
        "dataset[\"Total_Stops\"].value_counts()"
      ]
    },
    {
      "cell_type": "code",
      "execution_count": null,
      "metadata": {
        "id": "myZ0fz8LS1Fi"
      },
      "outputs": [],
      "source": [
        "# As this is case of Ordinal Categorical type we perform LabelEncoder\n",
        "# Here Values are assigned with corresponding keys\n",
        "dataset.replace({\"non-stop\": 0, \"1 stop\": 1, \"2 stops\": 2, \"3 stops\": 3, \"4 stops\": 4}, inplace = True)\n",
        "dataset.head()"
      ]
    },
    {
      "cell_type": "code",
      "execution_count": null,
      "metadata": {
        "id": "v_G3ZVrXS1Fj"
      },
      "outputs": [],
      "source": [
        "# Concatenate dataframe --> train_data + Airline + Source + Destination\n",
        "data_train = pd.concat([dataset, Airline, Source, Destination], axis = 1) # axis = 1 signifies column\n",
        "data_train.drop([\"Airline\", \"Source\", \"Destination\"], axis = 1, inplace = True)\n",
        "\n",
        "data_train.head()"
      ]
    },
    {
      "cell_type": "code",
      "execution_count": null,
      "metadata": {
        "id": "dOytf6t3S1Fj"
      },
      "outputs": [],
      "source": [
        "data_train.shape"
      ]
    },
    {
      "cell_type": "markdown",
      "metadata": {
        "id": "SEP5wMxQS1Fk"
      },
      "source": [
        "## Feature Selection\n",
        "\n",
        "Finding out the best feature which will contribute and have good relation with target variable.\n",
        "Following are some of the feature selection methods:\n",
        "\n",
        "\n",
        "1. <span style=\"color: purple;\">**feature_importance_**</span>: To check for relative feature importance\n",
        "2. <span style=\"color: purple;\">**Variable Inflation Factor (VIF)**</span>: To check for multicollinearity"
      ]
    },
    {
      "cell_type": "code",
      "execution_count": null,
      "metadata": {
        "id": "A8jHpbjSS1Fk"
      },
      "outputs": [],
      "source": [
        "# data_train.columns"
      ]
    },
    {
      "cell_type": "code",
      "execution_count": null,
      "metadata": {
        "id": "wAWy6A20S1Fk"
      },
      "outputs": [],
      "source": [
        "X = data_train.loc[:, ['Total_Stops', 'journey_day', 'journey_month', 'dep_hour',\n",
        "       'dep_min', 'arrival_hour', 'arrival_min', 'Duration_hours',\n",
        "       'Duration_mins', 'Airline_Air India', 'Airline_GoAir', 'Airline_IndiGo',\n",
        "       'Airline_Jet Airways', 'Airline_Multiple carriers', 'Airline_Other',\n",
        "       'Airline_SpiceJet', 'Airline_Vistara', 'Source_Chennai', 'Source_Delhi',\n",
        "       'Source_Kolkata', 'Source_Mumbai', 'Destination_Cochin',\n",
        "       'Destination_Delhi', 'Destination_Hyderabad', 'Destination_Kolkata']]\n",
        "y = data_train.iloc[:, 1]\n",
        "\n",
        "print(X.shape, y.shape)"
      ]
    },
    {
      "cell_type": "markdown",
      "source": [
        "### feature_importance_"
      ],
      "metadata": {
        "id": "HeS_DjXc5ayE"
      }
    },
    {
      "cell_type": "code",
      "execution_count": null,
      "metadata": {
        "id": "_R2HKxjwS1Fk"
      },
      "outputs": [],
      "source": [
        "# Important feature using ExtraTreesRegressor\n",
        "from sklearn.ensemble import ExtraTreesRegressor\n",
        "selection = ExtraTreesRegressor()\n",
        "selection.fit(X, y)\n",
        "\n",
        "print(selection.feature_importances_)"
      ]
    },
    {
      "cell_type": "code",
      "execution_count": null,
      "metadata": {
        "id": "XDqTCwDTS1Fl"
      },
      "outputs": [],
      "source": [
        "#plot graph of feature importances for better visualization\n",
        "plt.figure(figsize = (12,8))\n",
        "feat_importances = pd.Series(selection.feature_importances_, index=X.columns)\n",
        "feat_importances.nlargest(25).plot(kind='barh')\n",
        "plt.show()"
      ]
    },
    {
      "cell_type": "markdown",
      "source": [
        "### VIF - Multicollinearity"
      ],
      "metadata": {
        "id": "hiqMNCUH50LT"
      }
    },
    {
      "cell_type": "code",
      "source": [
        "# Checking for Multicollinearity\n",
        "from statsmodels.stats.outliers_influence import variance_inflation_factor\n",
        "def calc_vif(z):\n",
        "    # Calculating Variable Inflation Factor (VIF)\n",
        "    vif = pd.DataFrame()\n",
        "    vif[\"variables\"] = z.columns\n",
        "    vif[\"VIF\"] = [variance_inflation_factor(z.values, i) for i in range(z.shape[1])]\n",
        "    return(vif)"
      ],
      "metadata": {
        "id": "E0vbxppVmuFr"
      },
      "execution_count": null,
      "outputs": []
    },
    {
      "cell_type": "code",
      "source": [
        "# Compute VIF on X\n",
        "calc_vif(X)"
      ],
      "metadata": {
        "id": "xbQuyvAamuwp"
      },
      "execution_count": null,
      "outputs": []
    },
    {
      "cell_type": "code",
      "source": [
        "# Drop 'Source_Delhi'\n",
        "X = data_train.loc[:, ['Total_Stops', 'journey_day', 'journey_month', 'dep_hour',\n",
        "       'dep_min', 'arrival_hour', 'arrival_min', 'Duration_hours',\n",
        "       'Duration_mins', 'Airline_Air India', 'Airline_GoAir', 'Airline_IndiGo',\n",
        "       'Airline_Jet Airways', 'Airline_Multiple carriers', 'Airline_Other',\n",
        "       'Airline_SpiceJet', 'Airline_Vistara', 'Source_Chennai',\n",
        "       'Source_Kolkata', 'Source_Mumbai', 'Destination_Cochin',\n",
        "       'Destination_Delhi', 'Destination_Hyderabad', 'Destination_Kolkata']]\n",
        "X.head()"
      ],
      "metadata": {
        "id": "EEejlvy4rjhI"
      },
      "execution_count": null,
      "outputs": []
    },
    {
      "cell_type": "markdown",
      "metadata": {
        "id": "NpdCnWZJS1Fl"
      },
      "source": [
        "## Fit model - Random Forest\n",
        "\n",
        "1. Split dataset into train and test set in order to predict, w.r.t, X_test\n",
        "2. If needed do scaling of data\n",
        "    * Scaling is not required in Random forest\n",
        "3. Train Model\n",
        "4. Gauge Model Performance\n",
        "5. In regression check **RSME** Score"
      ]
    },
    {
      "cell_type": "code",
      "execution_count": null,
      "metadata": {
        "id": "Ot0B6DehS1Fl"
      },
      "outputs": [],
      "source": [
        "from sklearn.model_selection import train_test_split\n",
        "X_train, X_test, y_train, y_test = train_test_split(X, y, test_size = 0.2, random_state = 42)"
      ]
    },
    {
      "cell_type": "code",
      "execution_count": null,
      "metadata": {
        "id": "RmuPTH6nS1Fl"
      },
      "outputs": [],
      "source": [
        "from sklearn.ensemble import RandomForestRegressor\n",
        "rf_reg = RandomForestRegressor()\n",
        "rf_reg.fit(X_train, y_train)"
      ]
    },
    {
      "cell_type": "markdown",
      "source": [
        "### Model Performance"
      ],
      "metadata": {
        "id": "txn0DDgf8Da-"
      }
    },
    {
      "cell_type": "code",
      "execution_count": null,
      "metadata": {
        "id": "qykQeIpsS1Fl"
      },
      "outputs": [],
      "source": [
        "print('Model Performance on Training Set:', round(rf_reg.score(X_train, y_train)*100,2))\n",
        "print('Model Performance on Test Set:', round(rf_reg.score(X_test, y_test)*100,2))"
      ]
    },
    {
      "cell_type": "code",
      "execution_count": null,
      "metadata": {
        "id": "w0fLHmzsS1Fl"
      },
      "outputs": [],
      "source": [
        "# Plot performance graph\n",
        "y_pred = rf_reg.predict(X_test)\n",
        "plt.scatter(y_test, y_pred, alpha = 0.5)\n",
        "plt.xlabel(\"y_test\")\n",
        "plt.ylabel(\"y_pred\")\n",
        "plt.show()"
      ]
    },
    {
      "cell_type": "code",
      "execution_count": null,
      "metadata": {
        "id": "C8WI7In0S1Fl"
      },
      "outputs": [],
      "source": [
        "# Model Error Values\n",
        "print('MAE:', metrics.mean_absolute_error(y_test, y_pred))\n",
        "print('MSE:', metrics.mean_squared_error(y_test, y_pred))\n",
        "print('RMSE:', np.sqrt(metrics.mean_squared_error(y_test, y_pred)))\n",
        "# RMSE = sqrt((PV-OV)^2/n)\n",
        "print('Normalized RMSE ', round(np.sqrt(metrics.mean_squared_error(y_test, y_pred))/(max(y_test)-min(y_test)),2))\n",
        "# RMSE/(max(DV)-min(DV))\n",
        "print('Max Value: ', max(y), '\\nMin Value: ', min(y))"
      ]
    },
    {
      "cell_type": "markdown",
      "metadata": {
        "id": "pvYeHQpcS1Fn"
      },
      "source": [
        "### Save the model .pkl"
      ]
    },
    {
      "cell_type": "code",
      "execution_count": null,
      "metadata": {
        "id": "h4ggjhPHS1Fn"
      },
      "outputs": [],
      "source": [
        "import pickle\n",
        "# open a file, where you ant to store the data\n",
        "file = open('c1_flight_rf.pkl', 'wb')\n",
        "# dump information to that file\n",
        "pickle.dump(rf_reg, file)"
      ]
    },
    {
      "cell_type": "markdown",
      "source": [
        "# Prediction on Unseen data"
      ],
      "metadata": {
        "id": "dfw9ROxQs1HM"
      }
    },
    {
      "cell_type": "code",
      "source": [
        "import pickle\n",
        "path = 'c1_flight_rf.pkl'\n",
        "model = open(path,'rb')\n",
        "rf_model = pickle.load(model)"
      ],
      "metadata": {
        "id": "zISCE_BYuh27"
      },
      "execution_count": null,
      "outputs": []
    },
    {
      "cell_type": "code",
      "source": [
        "unseen_dataset = pd.read_excel(\"./a2_Unseen_Dataset.xlsx\")\n",
        "unseen_dataset.head()"
      ],
      "metadata": {
        "colab": {
          "base_uri": "https://localhost:8080/"
        },
        "id": "lnUogtuHs4T6",
        "outputId": "22b1294a-e8e3-45d0-ad0a-5e0b1a1d5efd"
      },
      "execution_count": null,
      "outputs": [
        {
          "output_type": "execute_result",
          "data": {
            "text/plain": [
              "             Airline Date_of_Journey    Source Destination            Route  \\\n",
              "0        Jet Airways      27/05/2019     Delhi      Cochin  DEL → BOM → COK   \n",
              "1             IndiGo       6/03/2019     Delhi      Cochin  DEL → MAA → COK   \n",
              "2          Air India      21/03/2019     Delhi      Cochin  DEL → BLR → COK   \n",
              "3            Vistara      18/03/2019  Banglore   New Delhi        BLR → DEL   \n",
              "4  Multiple carriers      27/05/2019     Delhi      Cochin  DEL → BOM → COK   \n",
              "\n",
              "  Dep_Time  Arrival_Time Duration Total_Stops              Additional_Info  \\\n",
              "0    07:05         19:00  11h 55m      1 stop  In-flight meal not included   \n",
              "1    02:05         07:25   5h 20m      1 stop                      No info   \n",
              "2    09:45         23:00  13h 15m      1 stop                      No info   \n",
              "3    21:10  00:05 16 Mar   2h 55m    non-stop                      No info   \n",
              "4    08:30         19:15  10h 45m      1 stop                      No info   \n",
              "\n",
              "     Price  \n",
              "0  12898.0  \n",
              "1  10851.0  \n",
              "2   5704.0  \n",
              "3  11598.0  \n",
              "4   9149.0  "
            ],
            "text/html": [
              "\n",
              "  <div id=\"df-dd68ce9f-fd10-4041-9174-d64f5267fcf5\">\n",
              "    <div class=\"colab-df-container\">\n",
              "      <div>\n",
              "<style scoped>\n",
              "    .dataframe tbody tr th:only-of-type {\n",
              "        vertical-align: middle;\n",
              "    }\n",
              "\n",
              "    .dataframe tbody tr th {\n",
              "        vertical-align: top;\n",
              "    }\n",
              "\n",
              "    .dataframe thead th {\n",
              "        text-align: right;\n",
              "    }\n",
              "</style>\n",
              "<table border=\"1\" class=\"dataframe\">\n",
              "  <thead>\n",
              "    <tr style=\"text-align: right;\">\n",
              "      <th></th>\n",
              "      <th>Airline</th>\n",
              "      <th>Date_of_Journey</th>\n",
              "      <th>Source</th>\n",
              "      <th>Destination</th>\n",
              "      <th>Route</th>\n",
              "      <th>Dep_Time</th>\n",
              "      <th>Arrival_Time</th>\n",
              "      <th>Duration</th>\n",
              "      <th>Total_Stops</th>\n",
              "      <th>Additional_Info</th>\n",
              "      <th>Price</th>\n",
              "    </tr>\n",
              "  </thead>\n",
              "  <tbody>\n",
              "    <tr>\n",
              "      <th>0</th>\n",
              "      <td>Jet Airways</td>\n",
              "      <td>27/05/2019</td>\n",
              "      <td>Delhi</td>\n",
              "      <td>Cochin</td>\n",
              "      <td>DEL → BOM → COK</td>\n",
              "      <td>07:05</td>\n",
              "      <td>19:00</td>\n",
              "      <td>11h 55m</td>\n",
              "      <td>1 stop</td>\n",
              "      <td>In-flight meal not included</td>\n",
              "      <td>12898.0</td>\n",
              "    </tr>\n",
              "    <tr>\n",
              "      <th>1</th>\n",
              "      <td>IndiGo</td>\n",
              "      <td>6/03/2019</td>\n",
              "      <td>Delhi</td>\n",
              "      <td>Cochin</td>\n",
              "      <td>DEL → MAA → COK</td>\n",
              "      <td>02:05</td>\n",
              "      <td>07:25</td>\n",
              "      <td>5h 20m</td>\n",
              "      <td>1 stop</td>\n",
              "      <td>No info</td>\n",
              "      <td>10851.0</td>\n",
              "    </tr>\n",
              "    <tr>\n",
              "      <th>2</th>\n",
              "      <td>Air India</td>\n",
              "      <td>21/03/2019</td>\n",
              "      <td>Delhi</td>\n",
              "      <td>Cochin</td>\n",
              "      <td>DEL → BLR → COK</td>\n",
              "      <td>09:45</td>\n",
              "      <td>23:00</td>\n",
              "      <td>13h 15m</td>\n",
              "      <td>1 stop</td>\n",
              "      <td>No info</td>\n",
              "      <td>5704.0</td>\n",
              "    </tr>\n",
              "    <tr>\n",
              "      <th>3</th>\n",
              "      <td>Vistara</td>\n",
              "      <td>18/03/2019</td>\n",
              "      <td>Banglore</td>\n",
              "      <td>New Delhi</td>\n",
              "      <td>BLR → DEL</td>\n",
              "      <td>21:10</td>\n",
              "      <td>00:05 16 Mar</td>\n",
              "      <td>2h 55m</td>\n",
              "      <td>non-stop</td>\n",
              "      <td>No info</td>\n",
              "      <td>11598.0</td>\n",
              "    </tr>\n",
              "    <tr>\n",
              "      <th>4</th>\n",
              "      <td>Multiple carriers</td>\n",
              "      <td>27/05/2019</td>\n",
              "      <td>Delhi</td>\n",
              "      <td>Cochin</td>\n",
              "      <td>DEL → BOM → COK</td>\n",
              "      <td>08:30</td>\n",
              "      <td>19:15</td>\n",
              "      <td>10h 45m</td>\n",
              "      <td>1 stop</td>\n",
              "      <td>No info</td>\n",
              "      <td>9149.0</td>\n",
              "    </tr>\n",
              "  </tbody>\n",
              "</table>\n",
              "</div>\n",
              "      <button class=\"colab-df-convert\" onclick=\"convertToInteractive('df-dd68ce9f-fd10-4041-9174-d64f5267fcf5')\"\n",
              "              title=\"Convert this dataframe to an interactive table.\"\n",
              "              style=\"display:none;\">\n",
              "        \n",
              "  <svg xmlns=\"http://www.w3.org/2000/svg\" height=\"24px\"viewBox=\"0 0 24 24\"\n",
              "       width=\"24px\">\n",
              "    <path d=\"M0 0h24v24H0V0z\" fill=\"none\"/>\n",
              "    <path d=\"M18.56 5.44l.94 2.06.94-2.06 2.06-.94-2.06-.94-.94-2.06-.94 2.06-2.06.94zm-11 1L8.5 8.5l.94-2.06 2.06-.94-2.06-.94L8.5 2.5l-.94 2.06-2.06.94zm10 10l.94 2.06.94-2.06 2.06-.94-2.06-.94-.94-2.06-.94 2.06-2.06.94z\"/><path d=\"M17.41 7.96l-1.37-1.37c-.4-.4-.92-.59-1.43-.59-.52 0-1.04.2-1.43.59L10.3 9.45l-7.72 7.72c-.78.78-.78 2.05 0 2.83L4 21.41c.39.39.9.59 1.41.59.51 0 1.02-.2 1.41-.59l7.78-7.78 2.81-2.81c.8-.78.8-2.07 0-2.86zM5.41 20L4 18.59l7.72-7.72 1.47 1.35L5.41 20z\"/>\n",
              "  </svg>\n",
              "      </button>\n",
              "      \n",
              "  <style>\n",
              "    .colab-df-container {\n",
              "      display:flex;\n",
              "      flex-wrap:wrap;\n",
              "      gap: 12px;\n",
              "    }\n",
              "\n",
              "    .colab-df-convert {\n",
              "      background-color: #E8F0FE;\n",
              "      border: none;\n",
              "      border-radius: 50%;\n",
              "      cursor: pointer;\n",
              "      display: none;\n",
              "      fill: #1967D2;\n",
              "      height: 32px;\n",
              "      padding: 0 0 0 0;\n",
              "      width: 32px;\n",
              "    }\n",
              "\n",
              "    .colab-df-convert:hover {\n",
              "      background-color: #E2EBFA;\n",
              "      box-shadow: 0px 1px 2px rgba(60, 64, 67, 0.3), 0px 1px 3px 1px rgba(60, 64, 67, 0.15);\n",
              "      fill: #174EA6;\n",
              "    }\n",
              "\n",
              "    [theme=dark] .colab-df-convert {\n",
              "      background-color: #3B4455;\n",
              "      fill: #D2E3FC;\n",
              "    }\n",
              "\n",
              "    [theme=dark] .colab-df-convert:hover {\n",
              "      background-color: #434B5C;\n",
              "      box-shadow: 0px 1px 3px 1px rgba(0, 0, 0, 0.15);\n",
              "      filter: drop-shadow(0px 1px 2px rgba(0, 0, 0, 0.3));\n",
              "      fill: #FFFFFF;\n",
              "    }\n",
              "  </style>\n",
              "\n",
              "      <script>\n",
              "        const buttonEl =\n",
              "          document.querySelector('#df-dd68ce9f-fd10-4041-9174-d64f5267fcf5 button.colab-df-convert');\n",
              "        buttonEl.style.display =\n",
              "          google.colab.kernel.accessAllowed ? 'block' : 'none';\n",
              "\n",
              "        async function convertToInteractive(key) {\n",
              "          const element = document.querySelector('#df-dd68ce9f-fd10-4041-9174-d64f5267fcf5');\n",
              "          const dataTable =\n",
              "            await google.colab.kernel.invokeFunction('convertToInteractive',\n",
              "                                                     [key], {});\n",
              "          if (!dataTable) return;\n",
              "\n",
              "          const docLinkHtml = 'Like what you see? Visit the ' +\n",
              "            '<a target=\"_blank\" href=https://colab.research.google.com/notebooks/data_table.ipynb>data table notebook</a>'\n",
              "            + ' to learn more about interactive tables.';\n",
              "          element.innerHTML = '';\n",
              "          dataTable['output_type'] = 'display_data';\n",
              "          await google.colab.output.renderOutput(dataTable, element);\n",
              "          const docLink = document.createElement('div');\n",
              "          docLink.innerHTML = docLinkHtml;\n",
              "          element.appendChild(docLink);\n",
              "        }\n",
              "      </script>\n",
              "    </div>\n",
              "  </div>\n",
              "  "
            ]
          },
          "metadata": {},
          "execution_count": 5
        }
      ]
    },
    {
      "cell_type": "code",
      "source": [
        "# Perform feature engineering on object dt variables\n",
        "# Feature Engineering on: 'Date_of_Journey'\n",
        "unseen_dataset[\"journey_day\"] = pd.to_datetime(unseen_dataset.Date_of_Journey, format=\"%d/%m/%Y\").dt.day\n",
        "unseen_dataset[\"journey_month\"] = pd.to_datetime(unseen_dataset[\"Date_of_Journey\"], format = \"%d/%m/%Y\").dt.month\n",
        "unseen_dataset.drop([\"Date_of_Journey\"], axis = 1, inplace = True)\n",
        "\n",
        "# Feature Engineering on: 'Dep_Time'\n",
        "unseen_dataset[\"dep_hour\"] = pd.to_datetime(unseen_dataset[\"Dep_Time\"]).dt.hour\n",
        "unseen_dataset[\"dep_min\"] = pd.to_datetime(unseen_dataset[\"Dep_Time\"]).dt.minute\n",
        "unseen_dataset.drop([\"Dep_Time\"], axis = 1, inplace = True)\n",
        "\n",
        "# Feature Engineering on: 'Arrival_Time'\n",
        "unseen_dataset[\"arrival_hour\"] = pd.to_datetime(unseen_dataset[\"Arrival_Time\"]).dt.hour\n",
        "unseen_dataset[\"arrival_min\"] = pd.to_datetime(unseen_dataset[\"Arrival_Time\"]).dt.minute\n",
        "unseen_dataset.drop([\"Arrival_Time\"], axis = 1, inplace = True)\n",
        "\n",
        "# Feature Engineering on: 'Duration'\n",
        "duration = list(unseen_dataset[\"Duration\"])\n",
        "for i in range(len(duration)):\n",
        "    if len(duration[i].split()) != 2:    # Check if duration contains only hour or mins\n",
        "        if \"h\" in duration[i]:\n",
        "            duration[i] = duration[i].strip() + \" 0m\"   # Adds 0 minute\n",
        "        else:\n",
        "            duration[i] = \"0h \" + duration[i]           # Adds 0 hour\n",
        "duration_hours = []\n",
        "duration_mins = []\n",
        "for i in range(len(duration)):\n",
        "    duration_hours.append(int(duration[i].split(sep = \"h\")[0]))    # Extract hours from duration\n",
        "    duration_mins.append(int(duration[i].split(sep = \"m\")[0].split()[-1]))   # Extracts only minutes from duration\n",
        "unseen_dataset[\"Duration_hours\"] = duration_hours\n",
        "unseen_dataset[\"Duration_mins\"] = duration_mins\n",
        "unseen_dataset.drop([\"Duration\"], axis = 1, inplace = True)\n",
        "\n",
        "\n",
        "# Perform feature engineering on Categorical dt variables\n",
        "# Feature Engineering on: 'Airline'\n",
        "Airline = unseen_dataset[[\"Airline\"]]\n",
        "New_Airline_List = []\n",
        "Current_Airline_List = Airline['Airline']\n",
        "for carrier in Current_Airline_List:\n",
        "  if carrier in ['IndiGo', 'Air India', 'Jet Airways', 'SpiceJet',\n",
        "       'Multiple carriers', 'GoAir', 'Vistara', 'Air Asia']:\n",
        "    New_Airline_List.append(carrier)\n",
        "  else:\n",
        "    New_Airline_List.append('Other')\n",
        "Airline['Airline'] = pd.DataFrame(New_Airline_List)\n",
        "Airline = pd.get_dummies(Airline, drop_first= True)\n",
        "\n",
        "# Feature Engineering on: 'Source'\n",
        "Source = unseen_dataset[[\"Source\"]]\n",
        "Source = pd.get_dummies(Source, drop_first= True)\n",
        "Source.head()\n",
        "\n",
        "# Feature Engineering on: 'Destination'\n",
        "Destination = unseen_dataset[[\"Destination\"]]\n",
        "Current_Destination_List = Destination['Destination']\n",
        "New_Destination_List = []\n",
        "for value in Current_Destination_List:\n",
        "  if value in ['New Delhi']:\n",
        "    New_Destination_List.append('Delhi')\n",
        "  else:\n",
        "    New_Destination_List.append(value)\n",
        "Destination['Destination'] = pd.DataFrame(New_Destination_List)\n",
        "Destination['Destination'].value_counts()\n",
        "Destination = pd.get_dummies(Destination, drop_first = True)\n",
        "Destination.head()\n",
        "\n",
        "# Feature Engineering on: 'Route', 'Additional_Info\n",
        "unseen_dataset.drop([\"Route\", \"Additional_Info\"], axis = 1, inplace = True)\n",
        "\n",
        "# Feature Engineering on: 'Total_Stops'\n",
        "unseen_dataset.replace({\"non-stop\": 0, \"1 stop\": 1, \"2 stops\": 2, \"3 stops\": 3, \"4 stops\": 4}, inplace = True)\n",
        "\n",
        "# Concatenate dataframe --> train_data + Airline + Source + Destination\n",
        "data_test = pd.concat([unseen_dataset, Airline, Source, Destination], axis = 1)\n",
        "data_test.drop([\"Airline\", \"Source\", \"Destination\"], axis = 1, inplace = True)\n",
        "\n",
        "# See how the test dataset looks\n",
        "data_test.head()"
      ],
      "metadata": {
        "colab": {
          "base_uri": "https://localhost:8080/"
        },
        "id": "60tQPbrftMIY",
        "outputId": "c8edfb45-e155-4c24-e151-7693ed858537"
      },
      "execution_count": null,
      "outputs": [
        {
          "output_type": "stream",
          "name": "stderr",
          "text": [
            "/usr/local/lib/python3.7/dist-packages/ipykernel_launcher.py:46: SettingWithCopyWarning: \n",
            "A value is trying to be set on a copy of a slice from a DataFrame.\n",
            "Try using .loc[row_indexer,col_indexer] = value instead\n",
            "\n",
            "See the caveats in the documentation: https://pandas.pydata.org/pandas-docs/stable/user_guide/indexing.html#returning-a-view-versus-a-copy\n",
            "/usr/local/lib/python3.7/dist-packages/ipykernel_launcher.py:63: SettingWithCopyWarning: \n",
            "A value is trying to be set on a copy of a slice from a DataFrame.\n",
            "Try using .loc[row_indexer,col_indexer] = value instead\n",
            "\n",
            "See the caveats in the documentation: https://pandas.pydata.org/pandas-docs/stable/user_guide/indexing.html#returning-a-view-versus-a-copy\n"
          ]
        },
        {
          "output_type": "execute_result",
          "data": {
            "text/plain": [
              "   Total_Stops    Price  journey_day  journey_month  dep_hour  dep_min  \\\n",
              "0            1  12898.0           27              5         7        5   \n",
              "1            1  10851.0            6              3         2        5   \n",
              "2            1   5704.0           21              3         9       45   \n",
              "3            0  11598.0           18              3        21       10   \n",
              "4            1   9149.0           27              5         8       30   \n",
              "\n",
              "   arrival_hour  arrival_min  Duration_hours  Duration_mins  ...  \\\n",
              "0            19            0              11             55  ...   \n",
              "1             7           25               5             20  ...   \n",
              "2            23            0              13             15  ...   \n",
              "3             0            5               2             55  ...   \n",
              "4            19           15              10             45  ...   \n",
              "\n",
              "   Airline_SpiceJet  Airline_Vistara  Source_Chennai  Source_Delhi  \\\n",
              "0                 0                0               0             1   \n",
              "1                 0                0               0             1   \n",
              "2                 0                0               0             1   \n",
              "3                 0                1               0             0   \n",
              "4                 0                0               0             1   \n",
              "\n",
              "   Source_Kolkata  Source_Mumbai  Destination_Cochin  Destination_Delhi  \\\n",
              "0               0              0                   1                  0   \n",
              "1               0              0                   1                  0   \n",
              "2               0              0                   1                  0   \n",
              "3               0              0                   0                  1   \n",
              "4               0              0                   1                  0   \n",
              "\n",
              "   Destination_Hyderabad  Destination_Kolkata  \n",
              "0                      0                    0  \n",
              "1                      0                    0  \n",
              "2                      0                    0  \n",
              "3                      0                    0  \n",
              "4                      0                    0  \n",
              "\n",
              "[5 rows x 26 columns]"
            ],
            "text/html": [
              "\n",
              "  <div id=\"df-767d55ef-4b8e-46a7-a938-ea005ad844c3\">\n",
              "    <div class=\"colab-df-container\">\n",
              "      <div>\n",
              "<style scoped>\n",
              "    .dataframe tbody tr th:only-of-type {\n",
              "        vertical-align: middle;\n",
              "    }\n",
              "\n",
              "    .dataframe tbody tr th {\n",
              "        vertical-align: top;\n",
              "    }\n",
              "\n",
              "    .dataframe thead th {\n",
              "        text-align: right;\n",
              "    }\n",
              "</style>\n",
              "<table border=\"1\" class=\"dataframe\">\n",
              "  <thead>\n",
              "    <tr style=\"text-align: right;\">\n",
              "      <th></th>\n",
              "      <th>Total_Stops</th>\n",
              "      <th>Price</th>\n",
              "      <th>journey_day</th>\n",
              "      <th>journey_month</th>\n",
              "      <th>dep_hour</th>\n",
              "      <th>dep_min</th>\n",
              "      <th>arrival_hour</th>\n",
              "      <th>arrival_min</th>\n",
              "      <th>Duration_hours</th>\n",
              "      <th>Duration_mins</th>\n",
              "      <th>...</th>\n",
              "      <th>Airline_SpiceJet</th>\n",
              "      <th>Airline_Vistara</th>\n",
              "      <th>Source_Chennai</th>\n",
              "      <th>Source_Delhi</th>\n",
              "      <th>Source_Kolkata</th>\n",
              "      <th>Source_Mumbai</th>\n",
              "      <th>Destination_Cochin</th>\n",
              "      <th>Destination_Delhi</th>\n",
              "      <th>Destination_Hyderabad</th>\n",
              "      <th>Destination_Kolkata</th>\n",
              "    </tr>\n",
              "  </thead>\n",
              "  <tbody>\n",
              "    <tr>\n",
              "      <th>0</th>\n",
              "      <td>1</td>\n",
              "      <td>12898.0</td>\n",
              "      <td>27</td>\n",
              "      <td>5</td>\n",
              "      <td>7</td>\n",
              "      <td>5</td>\n",
              "      <td>19</td>\n",
              "      <td>0</td>\n",
              "      <td>11</td>\n",
              "      <td>55</td>\n",
              "      <td>...</td>\n",
              "      <td>0</td>\n",
              "      <td>0</td>\n",
              "      <td>0</td>\n",
              "      <td>1</td>\n",
              "      <td>0</td>\n",
              "      <td>0</td>\n",
              "      <td>1</td>\n",
              "      <td>0</td>\n",
              "      <td>0</td>\n",
              "      <td>0</td>\n",
              "    </tr>\n",
              "    <tr>\n",
              "      <th>1</th>\n",
              "      <td>1</td>\n",
              "      <td>10851.0</td>\n",
              "      <td>6</td>\n",
              "      <td>3</td>\n",
              "      <td>2</td>\n",
              "      <td>5</td>\n",
              "      <td>7</td>\n",
              "      <td>25</td>\n",
              "      <td>5</td>\n",
              "      <td>20</td>\n",
              "      <td>...</td>\n",
              "      <td>0</td>\n",
              "      <td>0</td>\n",
              "      <td>0</td>\n",
              "      <td>1</td>\n",
              "      <td>0</td>\n",
              "      <td>0</td>\n",
              "      <td>1</td>\n",
              "      <td>0</td>\n",
              "      <td>0</td>\n",
              "      <td>0</td>\n",
              "    </tr>\n",
              "    <tr>\n",
              "      <th>2</th>\n",
              "      <td>1</td>\n",
              "      <td>5704.0</td>\n",
              "      <td>21</td>\n",
              "      <td>3</td>\n",
              "      <td>9</td>\n",
              "      <td>45</td>\n",
              "      <td>23</td>\n",
              "      <td>0</td>\n",
              "      <td>13</td>\n",
              "      <td>15</td>\n",
              "      <td>...</td>\n",
              "      <td>0</td>\n",
              "      <td>0</td>\n",
              "      <td>0</td>\n",
              "      <td>1</td>\n",
              "      <td>0</td>\n",
              "      <td>0</td>\n",
              "      <td>1</td>\n",
              "      <td>0</td>\n",
              "      <td>0</td>\n",
              "      <td>0</td>\n",
              "    </tr>\n",
              "    <tr>\n",
              "      <th>3</th>\n",
              "      <td>0</td>\n",
              "      <td>11598.0</td>\n",
              "      <td>18</td>\n",
              "      <td>3</td>\n",
              "      <td>21</td>\n",
              "      <td>10</td>\n",
              "      <td>0</td>\n",
              "      <td>5</td>\n",
              "      <td>2</td>\n",
              "      <td>55</td>\n",
              "      <td>...</td>\n",
              "      <td>0</td>\n",
              "      <td>1</td>\n",
              "      <td>0</td>\n",
              "      <td>0</td>\n",
              "      <td>0</td>\n",
              "      <td>0</td>\n",
              "      <td>0</td>\n",
              "      <td>1</td>\n",
              "      <td>0</td>\n",
              "      <td>0</td>\n",
              "    </tr>\n",
              "    <tr>\n",
              "      <th>4</th>\n",
              "      <td>1</td>\n",
              "      <td>9149.0</td>\n",
              "      <td>27</td>\n",
              "      <td>5</td>\n",
              "      <td>8</td>\n",
              "      <td>30</td>\n",
              "      <td>19</td>\n",
              "      <td>15</td>\n",
              "      <td>10</td>\n",
              "      <td>45</td>\n",
              "      <td>...</td>\n",
              "      <td>0</td>\n",
              "      <td>0</td>\n",
              "      <td>0</td>\n",
              "      <td>1</td>\n",
              "      <td>0</td>\n",
              "      <td>0</td>\n",
              "      <td>1</td>\n",
              "      <td>0</td>\n",
              "      <td>0</td>\n",
              "      <td>0</td>\n",
              "    </tr>\n",
              "  </tbody>\n",
              "</table>\n",
              "<p>5 rows × 26 columns</p>\n",
              "</div>\n",
              "      <button class=\"colab-df-convert\" onclick=\"convertToInteractive('df-767d55ef-4b8e-46a7-a938-ea005ad844c3')\"\n",
              "              title=\"Convert this dataframe to an interactive table.\"\n",
              "              style=\"display:none;\">\n",
              "        \n",
              "  <svg xmlns=\"http://www.w3.org/2000/svg\" height=\"24px\"viewBox=\"0 0 24 24\"\n",
              "       width=\"24px\">\n",
              "    <path d=\"M0 0h24v24H0V0z\" fill=\"none\"/>\n",
              "    <path d=\"M18.56 5.44l.94 2.06.94-2.06 2.06-.94-2.06-.94-.94-2.06-.94 2.06-2.06.94zm-11 1L8.5 8.5l.94-2.06 2.06-.94-2.06-.94L8.5 2.5l-.94 2.06-2.06.94zm10 10l.94 2.06.94-2.06 2.06-.94-2.06-.94-.94-2.06-.94 2.06-2.06.94z\"/><path d=\"M17.41 7.96l-1.37-1.37c-.4-.4-.92-.59-1.43-.59-.52 0-1.04.2-1.43.59L10.3 9.45l-7.72 7.72c-.78.78-.78 2.05 0 2.83L4 21.41c.39.39.9.59 1.41.59.51 0 1.02-.2 1.41-.59l7.78-7.78 2.81-2.81c.8-.78.8-2.07 0-2.86zM5.41 20L4 18.59l7.72-7.72 1.47 1.35L5.41 20z\"/>\n",
              "  </svg>\n",
              "      </button>\n",
              "      \n",
              "  <style>\n",
              "    .colab-df-container {\n",
              "      display:flex;\n",
              "      flex-wrap:wrap;\n",
              "      gap: 12px;\n",
              "    }\n",
              "\n",
              "    .colab-df-convert {\n",
              "      background-color: #E8F0FE;\n",
              "      border: none;\n",
              "      border-radius: 50%;\n",
              "      cursor: pointer;\n",
              "      display: none;\n",
              "      fill: #1967D2;\n",
              "      height: 32px;\n",
              "      padding: 0 0 0 0;\n",
              "      width: 32px;\n",
              "    }\n",
              "\n",
              "    .colab-df-convert:hover {\n",
              "      background-color: #E2EBFA;\n",
              "      box-shadow: 0px 1px 2px rgba(60, 64, 67, 0.3), 0px 1px 3px 1px rgba(60, 64, 67, 0.15);\n",
              "      fill: #174EA6;\n",
              "    }\n",
              "\n",
              "    [theme=dark] .colab-df-convert {\n",
              "      background-color: #3B4455;\n",
              "      fill: #D2E3FC;\n",
              "    }\n",
              "\n",
              "    [theme=dark] .colab-df-convert:hover {\n",
              "      background-color: #434B5C;\n",
              "      box-shadow: 0px 1px 3px 1px rgba(0, 0, 0, 0.15);\n",
              "      filter: drop-shadow(0px 1px 2px rgba(0, 0, 0, 0.3));\n",
              "      fill: #FFFFFF;\n",
              "    }\n",
              "  </style>\n",
              "\n",
              "      <script>\n",
              "        const buttonEl =\n",
              "          document.querySelector('#df-767d55ef-4b8e-46a7-a938-ea005ad844c3 button.colab-df-convert');\n",
              "        buttonEl.style.display =\n",
              "          google.colab.kernel.accessAllowed ? 'block' : 'none';\n",
              "\n",
              "        async function convertToInteractive(key) {\n",
              "          const element = document.querySelector('#df-767d55ef-4b8e-46a7-a938-ea005ad844c3');\n",
              "          const dataTable =\n",
              "            await google.colab.kernel.invokeFunction('convertToInteractive',\n",
              "                                                     [key], {});\n",
              "          if (!dataTable) return;\n",
              "\n",
              "          const docLinkHtml = 'Like what you see? Visit the ' +\n",
              "            '<a target=\"_blank\" href=https://colab.research.google.com/notebooks/data_table.ipynb>data table notebook</a>'\n",
              "            + ' to learn more about interactive tables.';\n",
              "          element.innerHTML = '';\n",
              "          dataTable['output_type'] = 'display_data';\n",
              "          await google.colab.output.renderOutput(dataTable, element);\n",
              "          const docLink = document.createElement('div');\n",
              "          docLink.innerHTML = docLinkHtml;\n",
              "          element.appendChild(docLink);\n",
              "        }\n",
              "      </script>\n",
              "    </div>\n",
              "  </div>\n",
              "  "
            ]
          },
          "metadata": {},
          "execution_count": 6
        }
      ]
    },
    {
      "cell_type": "code",
      "source": [
        "# Drop 'Source_Delhi'\n",
        "X_unseen = data_test.loc[:, ['Total_Stops', 'journey_day', 'journey_month', 'dep_hour',\n",
        "       'dep_min', 'arrival_hour', 'arrival_min', 'Duration_hours',\n",
        "       'Duration_mins', 'Airline_Air India', 'Airline_GoAir', 'Airline_IndiGo',\n",
        "       'Airline_Jet Airways', 'Airline_Multiple carriers', 'Airline_Other',\n",
        "       'Airline_SpiceJet', 'Airline_Vistara', 'Source_Chennai',\n",
        "       'Source_Kolkata', 'Source_Mumbai', 'Destination_Cochin',\n",
        "       'Destination_Delhi', 'Destination_Hyderabad', 'Destination_Kolkata']]\n",
        "y_unseen = data_test.iloc[:, 1]"
      ],
      "metadata": {
        "id": "RMyw5gG_uY8n"
      },
      "execution_count": null,
      "outputs": []
    },
    {
      "cell_type": "code",
      "source": [
        "# Predictions on unseen data\n",
        "y_pred = rf_model.predict(X_unseen)"
      ],
      "metadata": {
        "id": "Jkq9q2s_yGMG"
      },
      "execution_count": null,
      "outputs": []
    },
    {
      "cell_type": "code",
      "source": [
        "print('Normalized RMSE: ', round(np.sqrt(metrics.mean_squared_error(y_unseen, y_pred))/(max(y_unseen)-min(y_unseen)),2))\n",
        "print('Max Value: ', max(y_unseen), '\\nMin Value: ', min(y_unseen))\n",
        "print('R2 value: ', round(metrics.r2_score(y_unseen, y_pred),2))"
      ],
      "metadata": {
        "colab": {
          "base_uri": "https://localhost:8080/"
        },
        "id": "2S64OqbzF1Dt",
        "outputId": "89b22606-258e-41f0-c6f2-22f57be7fc58"
      },
      "execution_count": null,
      "outputs": [
        {
          "output_type": "stream",
          "name": "stdout",
          "text": [
            "Normalized RMSE:  0.05\n",
            "Max Value:  57209.0 \n",
            "Min Value:  1759.0\n",
            "R2 value:  0.67\n"
          ]
        }
      ]
    },
    {
      "cell_type": "code",
      "source": [
        "# writing model output file\n",
        "df_y_pred = pd.DataFrame(y_pred,columns= ['Predicted Price'])\n",
        "original_dataset = pd.read_excel(\"./a2_Unseen_Dataset.xlsx\")\n",
        "dfx = pd.concat([original_dataset, df_y_pred], axis=1)\n",
        "dfx.to_excel(\"c2_ModelOutput.xlsx\")\n",
        "dfx.head()"
      ],
      "metadata": {
        "colab": {
          "base_uri": "https://localhost:8080/"
        },
        "id": "6I3M-2O-yW3h",
        "outputId": "ae90df97-887c-41fb-f0a6-d51b63270573"
      },
      "execution_count": null,
      "outputs": [
        {
          "output_type": "execute_result",
          "data": {
            "text/plain": [
              "             Airline Date_of_Journey    Source Destination            Route  \\\n",
              "0        Jet Airways      27/05/2019     Delhi      Cochin  DEL → BOM → COK   \n",
              "1             IndiGo       6/03/2019     Delhi      Cochin  DEL → MAA → COK   \n",
              "2          Air India      21/03/2019     Delhi      Cochin  DEL → BLR → COK   \n",
              "3            Vistara      18/03/2019  Banglore   New Delhi        BLR → DEL   \n",
              "4  Multiple carriers      27/05/2019     Delhi      Cochin  DEL → BOM → COK   \n",
              "\n",
              "  Dep_Time  Arrival_Time Duration Total_Stops              Additional_Info  \\\n",
              "0    07:05         19:00  11h 55m      1 stop  In-flight meal not included   \n",
              "1    02:05         07:25   5h 20m      1 stop                      No info   \n",
              "2    09:45         23:00  13h 15m      1 stop                      No info   \n",
              "3    21:10  00:05 16 Mar   2h 55m    non-stop                      No info   \n",
              "4    08:30         19:15  10h 45m      1 stop                      No info   \n",
              "\n",
              "     Price  Predicted Price  \n",
              "0  12898.0     15261.616667  \n",
              "1  10851.0     11546.190000  \n",
              "2   5704.0      6407.710000  \n",
              "3  11598.0      6006.225000  \n",
              "4   9149.0      9358.254667  "
            ],
            "text/html": [
              "\n",
              "  <div id=\"df-f92fe85e-c0c0-45bb-95fe-0732b06265a1\">\n",
              "    <div class=\"colab-df-container\">\n",
              "      <div>\n",
              "<style scoped>\n",
              "    .dataframe tbody tr th:only-of-type {\n",
              "        vertical-align: middle;\n",
              "    }\n",
              "\n",
              "    .dataframe tbody tr th {\n",
              "        vertical-align: top;\n",
              "    }\n",
              "\n",
              "    .dataframe thead th {\n",
              "        text-align: right;\n",
              "    }\n",
              "</style>\n",
              "<table border=\"1\" class=\"dataframe\">\n",
              "  <thead>\n",
              "    <tr style=\"text-align: right;\">\n",
              "      <th></th>\n",
              "      <th>Airline</th>\n",
              "      <th>Date_of_Journey</th>\n",
              "      <th>Source</th>\n",
              "      <th>Destination</th>\n",
              "      <th>Route</th>\n",
              "      <th>Dep_Time</th>\n",
              "      <th>Arrival_Time</th>\n",
              "      <th>Duration</th>\n",
              "      <th>Total_Stops</th>\n",
              "      <th>Additional_Info</th>\n",
              "      <th>Price</th>\n",
              "      <th>Predicted Price</th>\n",
              "    </tr>\n",
              "  </thead>\n",
              "  <tbody>\n",
              "    <tr>\n",
              "      <th>0</th>\n",
              "      <td>Jet Airways</td>\n",
              "      <td>27/05/2019</td>\n",
              "      <td>Delhi</td>\n",
              "      <td>Cochin</td>\n",
              "      <td>DEL → BOM → COK</td>\n",
              "      <td>07:05</td>\n",
              "      <td>19:00</td>\n",
              "      <td>11h 55m</td>\n",
              "      <td>1 stop</td>\n",
              "      <td>In-flight meal not included</td>\n",
              "      <td>12898.0</td>\n",
              "      <td>15261.616667</td>\n",
              "    </tr>\n",
              "    <tr>\n",
              "      <th>1</th>\n",
              "      <td>IndiGo</td>\n",
              "      <td>6/03/2019</td>\n",
              "      <td>Delhi</td>\n",
              "      <td>Cochin</td>\n",
              "      <td>DEL → MAA → COK</td>\n",
              "      <td>02:05</td>\n",
              "      <td>07:25</td>\n",
              "      <td>5h 20m</td>\n",
              "      <td>1 stop</td>\n",
              "      <td>No info</td>\n",
              "      <td>10851.0</td>\n",
              "      <td>11546.190000</td>\n",
              "    </tr>\n",
              "    <tr>\n",
              "      <th>2</th>\n",
              "      <td>Air India</td>\n",
              "      <td>21/03/2019</td>\n",
              "      <td>Delhi</td>\n",
              "      <td>Cochin</td>\n",
              "      <td>DEL → BLR → COK</td>\n",
              "      <td>09:45</td>\n",
              "      <td>23:00</td>\n",
              "      <td>13h 15m</td>\n",
              "      <td>1 stop</td>\n",
              "      <td>No info</td>\n",
              "      <td>5704.0</td>\n",
              "      <td>6407.710000</td>\n",
              "    </tr>\n",
              "    <tr>\n",
              "      <th>3</th>\n",
              "      <td>Vistara</td>\n",
              "      <td>18/03/2019</td>\n",
              "      <td>Banglore</td>\n",
              "      <td>New Delhi</td>\n",
              "      <td>BLR → DEL</td>\n",
              "      <td>21:10</td>\n",
              "      <td>00:05 16 Mar</td>\n",
              "      <td>2h 55m</td>\n",
              "      <td>non-stop</td>\n",
              "      <td>No info</td>\n",
              "      <td>11598.0</td>\n",
              "      <td>6006.225000</td>\n",
              "    </tr>\n",
              "    <tr>\n",
              "      <th>4</th>\n",
              "      <td>Multiple carriers</td>\n",
              "      <td>27/05/2019</td>\n",
              "      <td>Delhi</td>\n",
              "      <td>Cochin</td>\n",
              "      <td>DEL → BOM → COK</td>\n",
              "      <td>08:30</td>\n",
              "      <td>19:15</td>\n",
              "      <td>10h 45m</td>\n",
              "      <td>1 stop</td>\n",
              "      <td>No info</td>\n",
              "      <td>9149.0</td>\n",
              "      <td>9358.254667</td>\n",
              "    </tr>\n",
              "  </tbody>\n",
              "</table>\n",
              "</div>\n",
              "      <button class=\"colab-df-convert\" onclick=\"convertToInteractive('df-f92fe85e-c0c0-45bb-95fe-0732b06265a1')\"\n",
              "              title=\"Convert this dataframe to an interactive table.\"\n",
              "              style=\"display:none;\">\n",
              "        \n",
              "  <svg xmlns=\"http://www.w3.org/2000/svg\" height=\"24px\"viewBox=\"0 0 24 24\"\n",
              "       width=\"24px\">\n",
              "    <path d=\"M0 0h24v24H0V0z\" fill=\"none\"/>\n",
              "    <path d=\"M18.56 5.44l.94 2.06.94-2.06 2.06-.94-2.06-.94-.94-2.06-.94 2.06-2.06.94zm-11 1L8.5 8.5l.94-2.06 2.06-.94-2.06-.94L8.5 2.5l-.94 2.06-2.06.94zm10 10l.94 2.06.94-2.06 2.06-.94-2.06-.94-.94-2.06-.94 2.06-2.06.94z\"/><path d=\"M17.41 7.96l-1.37-1.37c-.4-.4-.92-.59-1.43-.59-.52 0-1.04.2-1.43.59L10.3 9.45l-7.72 7.72c-.78.78-.78 2.05 0 2.83L4 21.41c.39.39.9.59 1.41.59.51 0 1.02-.2 1.41-.59l7.78-7.78 2.81-2.81c.8-.78.8-2.07 0-2.86zM5.41 20L4 18.59l7.72-7.72 1.47 1.35L5.41 20z\"/>\n",
              "  </svg>\n",
              "      </button>\n",
              "      \n",
              "  <style>\n",
              "    .colab-df-container {\n",
              "      display:flex;\n",
              "      flex-wrap:wrap;\n",
              "      gap: 12px;\n",
              "    }\n",
              "\n",
              "    .colab-df-convert {\n",
              "      background-color: #E8F0FE;\n",
              "      border: none;\n",
              "      border-radius: 50%;\n",
              "      cursor: pointer;\n",
              "      display: none;\n",
              "      fill: #1967D2;\n",
              "      height: 32px;\n",
              "      padding: 0 0 0 0;\n",
              "      width: 32px;\n",
              "    }\n",
              "\n",
              "    .colab-df-convert:hover {\n",
              "      background-color: #E2EBFA;\n",
              "      box-shadow: 0px 1px 2px rgba(60, 64, 67, 0.3), 0px 1px 3px 1px rgba(60, 64, 67, 0.15);\n",
              "      fill: #174EA6;\n",
              "    }\n",
              "\n",
              "    [theme=dark] .colab-df-convert {\n",
              "      background-color: #3B4455;\n",
              "      fill: #D2E3FC;\n",
              "    }\n",
              "\n",
              "    [theme=dark] .colab-df-convert:hover {\n",
              "      background-color: #434B5C;\n",
              "      box-shadow: 0px 1px 3px 1px rgba(0, 0, 0, 0.15);\n",
              "      filter: drop-shadow(0px 1px 2px rgba(0, 0, 0, 0.3));\n",
              "      fill: #FFFFFF;\n",
              "    }\n",
              "  </style>\n",
              "\n",
              "      <script>\n",
              "        const buttonEl =\n",
              "          document.querySelector('#df-f92fe85e-c0c0-45bb-95fe-0732b06265a1 button.colab-df-convert');\n",
              "        buttonEl.style.display =\n",
              "          google.colab.kernel.accessAllowed ? 'block' : 'none';\n",
              "\n",
              "        async function convertToInteractive(key) {\n",
              "          const element = document.querySelector('#df-f92fe85e-c0c0-45bb-95fe-0732b06265a1');\n",
              "          const dataTable =\n",
              "            await google.colab.kernel.invokeFunction('convertToInteractive',\n",
              "                                                     [key], {});\n",
              "          if (!dataTable) return;\n",
              "\n",
              "          const docLinkHtml = 'Like what you see? Visit the ' +\n",
              "            '<a target=\"_blank\" href=https://colab.research.google.com/notebooks/data_table.ipynb>data table notebook</a>'\n",
              "            + ' to learn more about interactive tables.';\n",
              "          element.innerHTML = '';\n",
              "          dataTable['output_type'] = 'display_data';\n",
              "          await google.colab.output.renderOutput(dataTable, element);\n",
              "          const docLink = document.createElement('div');\n",
              "          docLink.innerHTML = docLinkHtml;\n",
              "          element.appendChild(docLink);\n",
              "        }\n",
              "      </script>\n",
              "    </div>\n",
              "  </div>\n",
              "  "
            ]
          },
          "metadata": {},
          "execution_count": 10
        }
      ]
    },
    {
      "cell_type": "markdown",
      "source": [
        "---\n",
        "# In the next tutorial\n",
        "---"
      ],
      "metadata": {
        "id": "jWCd6yk9tvnB"
      }
    },
    {
      "cell_type": "markdown",
      "metadata": {
        "id": "nZdw_DXFS1Fm"
      },
      "source": [
        "## Hyperparameter Tuning\n",
        "\n",
        "\n",
        "* Choose following method for hyperparameter tuning\n",
        "    1. **RandomizedSearchCV** --> Fast\n",
        "    2. **GridSearchCV**\n",
        "* Assign hyperparameters in form of dictionary\n",
        "* Fit the model\n",
        "* Check best paramters and best score"
      ]
    },
    {
      "cell_type": "code",
      "execution_count": null,
      "metadata": {
        "id": "EhHmVC9jS1Fm"
      },
      "outputs": [],
      "source": [
        "from sklearn.model_selection import RandomizedSearchCV"
      ]
    },
    {
      "cell_type": "code",
      "execution_count": null,
      "metadata": {
        "id": "4foe6EnrS1Fm"
      },
      "outputs": [],
      "source": [
        "#Randomized Search CV\n",
        "# Number of trees in random forest\n",
        "n_estimators = [int(x) for x in np.linspace(start = 100, stop = 1200, num = 12)]\n",
        "# Number of features to consider at every split\n",
        "max_features = ['auto', 'sqrt']\n",
        "# Maximum number of levels in tree\n",
        "max_depth = [int(x) for x in np.linspace(5, 30, num = 6)]\n",
        "# Minimum number of samples required to split a node\n",
        "min_samples_split = [2, 5, 10, 15, 100]\n",
        "# Minimum number of samples required at each leaf node\n",
        "min_samples_leaf = [1, 2, 5, 10]"
      ]
    },
    {
      "cell_type": "code",
      "execution_count": null,
      "metadata": {
        "id": "8P1i--5yS1Fm"
      },
      "outputs": [],
      "source": [
        "# Create the random grid\n",
        "random_grid = {'n_estimators': n_estimators,\n",
        "               'max_features': max_features,\n",
        "               'max_depth': max_depth,\n",
        "               'min_samples_split': min_samples_split,\n",
        "               'min_samples_leaf': min_samples_leaf}"
      ]
    },
    {
      "cell_type": "code",
      "execution_count": null,
      "metadata": {
        "id": "8sfhJeXpS1Fm"
      },
      "outputs": [],
      "source": [
        "# Random search of parameters, using 5 fold cross validation,\n",
        "# search across 100 different combinations\n",
        "rf_random = RandomizedSearchCV(estimator = rf_reg, param_distributions = random_grid,\n",
        "                               scoring='neg_mean_squared_error', n_iter = 10, cv = 5,\n",
        "                               verbose=2, random_state=42, n_jobs = 1)"
      ]
    },
    {
      "cell_type": "code",
      "execution_count": null,
      "metadata": {
        "id": "I6o4FoG2S1Fm"
      },
      "outputs": [],
      "source": [
        "# Model Training with Hyperparameter Tuning\n",
        "rf_random.fit(X_train,y_train)"
      ]
    },
    {
      "cell_type": "code",
      "execution_count": null,
      "metadata": {
        "id": "OSbT_HsLS1Fm"
      },
      "outputs": [],
      "source": [
        "rf_random.best_params_"
      ]
    },
    {
      "cell_type": "code",
      "source": [
        "# Plot Performance Chart\n",
        "prediction = rf_random.predict(X_test)\n",
        "plt.figure(figsize = (8,8))\n",
        "plt.scatter(y_test, prediction, alpha = 0.5)\n",
        "plt.xlabel(\"y_test\")\n",
        "plt.ylabel(\"y_pred\")\n",
        "plt.show()"
      ],
      "metadata": {
        "id": "rOsDYms0QrBY"
      },
      "execution_count": null,
      "outputs": []
    },
    {
      "cell_type": "code",
      "source": [
        "# RMSE/(max(DV)-min(DV))\n",
        "print('R2 value: ', round(metrics.r2_score(y_test, prediction),2))\n",
        "print('RMSE: ', round(np.sqrt(metrics.mean_squared_error(y_test, prediction)),2))\n",
        "print('Normalized RMSE: ', round(np.sqrt(metrics.mean_squared_error(y_test, prediction))/(max(y_test)-min(y_test)),2))\n",
        "print('Max Value: ', max(y_test), '\\nMin Value: ', min(y_test))"
      ],
      "metadata": {
        "id": "hxl579dsQtZt"
      },
      "execution_count": null,
      "outputs": []
    }
  ],
  "metadata": {
    "kernelspec": {
      "display_name": "Python 3",
      "language": "python",
      "name": "python3"
    },
    "language_info": {
      "codemirror_mode": {
        "name": "ipython",
        "version": 3
      },
      "file_extension": ".py",
      "mimetype": "text/x-python",
      "name": "python",
      "nbconvert_exporter": "python",
      "pygments_lexer": "ipython3",
      "version": "3.7.6"
    },
    "colab": {
      "provenance": [],
      "collapsed_sections": [
        "BBgNOgHRS1FW",
        "duacQMllNqSn",
        "dfw9ROxQs1HM",
        "jWCd6yk9tvnB"
      ]
    }
  },
  "nbformat": 4,
  "nbformat_minor": 0
}